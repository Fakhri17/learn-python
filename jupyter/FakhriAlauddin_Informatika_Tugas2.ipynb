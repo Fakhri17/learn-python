{
 "cells": [
  {
   "cell_type": "markdown",
   "metadata": {
    "colab_type": "text",
    "id": "I6jmLA-RYrt5"
   },
   "source": [
    "<h2>Soal 1: Helper Function</h2>\n",
    "\n",
    "Jawab Pertanyaan di bawah ini:\n",
    "\n",
    "Misalkan kamu ingin mengetahui tentang kegunaan fungsi 'len' di Python, maka fungsi apa yang bisa kamu gunakan untuk menolong kamu?"
   ]
  },
  {
   "cell_type": "code",
   "execution_count": 3,
   "metadata": {
    "colab": {},
    "colab_type": "code",
    "id": "VrvyQxGJYrt9"
   },
   "outputs": [
    {
     "name": "stdout",
     "output_type": "stream",
     "text": [
      "10\n",
      "Help on built-in function len in module builtins:\n",
      "\n",
      "len(obj, /)\n",
      "    Return the number of items in a container.\n",
      "\n"
     ]
    }
   ],
   "source": [
    "# lengkapi code ini\n",
    "cobaLen = len([1,2,3,4,5,6,7,8,9,10])\n",
    "print(cobaLen)\n",
    "help(len)"
   ]
  },
  {
   "cell_type": "markdown",
   "metadata": {
    "colab_type": "text",
    "id": "KrcuFTuAYruT"
   },
   "source": [
    "<h2>Soal 2: Built-in Function</h2>\n",
    "\n",
    "Jawab Pertanyaan di bawah ini:\n",
    "    \n",
    "Apa itu built-in Function?\n",
    "\n",
    "Sebutkan 3 built-in Function di pyhon!\n",
    "\n",
    "Berikan contoh masing2 1 cara penggunaan built-in function yang kamu sebutkan sebelumnya"
   ]
  },
  {
   "cell_type": "markdown",
   "metadata": {
    "colab_type": "text",
    "id": "xro-58_CYruW"
   },
   "source": [
    "built-in function adalah fungsi bawaan dari python untuk melakukan berbagai hal\n",
    "\n",
    "berikut adalah built-in function yang ada pada python\n",
    "1. int()\n",
    "2. help()\n",
    "3. str()\n",
    "4. input()\n"
   ]
  },
  {
   "cell_type": "code",
   "execution_count": 1,
   "metadata": {
    "colab": {},
    "colab_type": "code",
    "id": "Xv7lHkgfYruY"
   },
   "outputs": [
    {
     "name": "stdout",
     "output_type": "stream",
     "text": [
      "1\n",
      "Help on built-in function len in module builtins:\n",
      "\n",
      "len(obj, /)\n",
      "    Return the number of items in a container.\n",
      "\n",
      "1.0\n",
      "masukan kalimat :  Fakhri\n",
      "Fakhri\n"
     ]
    }
   ],
   "source": [
    "varFloat = 1.0\n",
    "toInt = int(varFloat)\n",
    "print(toInt)\n",
    "help(len)\n",
    "toStr = str(varFloat)\n",
    "print(toStr)\n",
    "varInput = input(\"masukan kalimat : \" )\n",
    "print(varInput)"
   ]
  },
  {
   "cell_type": "markdown",
   "metadata": {
    "colab_type": "text",
    "id": "yhWXiPNDYrul"
   },
   "source": [
    "<h2>Soal 3: Method dan Function</h2>\n",
    "\n",
    "Jawab Pertanyaan di bawah ini:\n",
    "    \n",
    "- Apa perbedaan method dan function?"
   ]
  },
  {
   "cell_type": "markdown",
   "metadata": {
    "colab_type": "text",
    "id": "rqpTJlgDYrun"
   },
   "source": [
    "Fungsi adalah sebuah grup program untuk melakukan tugas tertentu yang berulang sedangakan methode adalah suatu fungsi yang hanya dimiliki satu object"
   ]
  },
  {
   "cell_type": "markdown",
   "metadata": {
    "colab_type": "text",
    "id": "tUU1xgYBYrup"
   },
   "source": [
    "<h2>Soal 4: Menggunkan Method String</h2>\n",
    "\n",
    "Lengkapi kode untuk menghasilkan suatu output yang di harapkan"
   ]
  },
  {
   "cell_type": "code",
   "execution_count": 4,
   "metadata": {
    "colab": {},
    "colab_type": "code",
    "id": "037gauOGYrur"
   },
   "outputs": [
    {
     "name": "stdout",
     "output_type": "stream",
     "text": [
      "CORONA CEPAT SELESAI\n",
      "3\n"
     ]
    }
   ],
   "source": [
    "kalimat = \"Corona cepat selesai\"\n",
    "\n",
    "\n",
    "# gunakan method untuk mengubah nilai kalimat menjadi uppercase semua kemudian tampilkan hasilnya\n",
    "print(kalimat.upper())\n",
    "\n",
    "# gunakan method untuk menghitung berapa huruf e di dalam kalimat\n",
    "print(kalimat.count('e'))"
   ]
  },
  {
   "cell_type": "markdown",
   "metadata": {
    "colab_type": "text",
    "id": "fPTd4R5VYru5"
   },
   "source": [
    "Expected Output:\n",
    "\n",
    "CORONA CEPAT SELESAI\n",
    "\n",
    "3"
   ]
  },
  {
   "cell_type": "markdown",
   "metadata": {
    "colab_type": "text",
    "id": "IPjp5vwDYrvL"
   },
   "source": [
    "<h2>Soal 5: Membuat Simple Function</h2>\n",
    "\n",
    "Buatlah suatu fungsi yang menerima satu input argumen berbentuk list dan mempunyai elemen bertipe numeric semua, dimana fungsi tersebut berguna untuk menghitung rata2 dari kumpulan elemen list tersebut. namai fungsi tersebut 'mean_list'"
   ]
  },
  {
   "cell_type": "code",
   "execution_count": 10,
   "metadata": {
    "colab": {},
    "colab_type": "code",
    "id": "smoKI9zIYrvO"
   },
   "outputs": [
    {
     "name": "stdout",
     "output_type": "stream",
     "text": [
      "13.9\n"
     ]
    }
   ],
   "source": [
    "def mean_list(obj):\n",
    "    count = 0.0\n",
    "    for item in obj:\n",
    "        count += item\n",
    "    mean = count / len(obj)\n",
    "    return mean\n",
    "\n",
    "obj_list = [11.25, 18.0, 20.0, 10.75, 9.50]\n",
    "print(mean_list(obj_list))"
   ]
  },
  {
   "cell_type": "markdown",
   "metadata": {
    "colab_type": "text",
    "id": "MVAvoHHgYrva"
   },
   "source": [
    "Expected Output:\n",
    "\n",
    "13.9"
   ]
  },
  {
   "cell_type": "markdown",
   "metadata": {
    "colab_type": "text",
    "id": "A8jjpNC8Yrvc"
   },
   "source": [
    "<h2>Soal 6: Membuat Function dengan Multiple arguments</h2>\n",
    "\n",
    "Buatlah suatu fungsi untuk melakukan penggabungan antara dua list"
   ]
  },
  {
   "cell_type": "code",
   "execution_count": 11,
   "metadata": {
    "colab": {},
    "colab_type": "code",
    "id": "r42z4mafYrve"
   },
   "outputs": [
    {
     "name": "stdout",
     "output_type": "stream",
     "text": [
      "[2, 4, 5, 6, 1, 2, 3]\n"
     ]
    }
   ],
   "source": [
    "def mergeList(obj1, obj2):\n",
    "    return obj1 + obj2\n",
    "obj_list = [2, 4, 5, 6]\n",
    "obj_penambah = [1, 2, 3]\n",
    "print(mergeList(obj_list, obj_penambah))"
   ]
  },
  {
   "cell_type": "markdown",
   "metadata": {
    "colab_type": "text",
    "id": "RYhU921kYrvp"
   },
   "source": [
    "Expected Output:\n",
    "\n",
    "[2, 4, 5, 6, 1, 2, 3]"
   ]
  },
  {
   "cell_type": "markdown",
   "metadata": {},
   "source": [
    "<h2>Soal 7: If-Else Statement</h2>\n",
    "\n",
    "Lengkapi kode untuk menghasilkan suatu output yang di harapkan\n",
    "\n",
    "- Bualah sebuah if-else statement yang dimana akan mem-print 'Besar' jika ruangan adalah 'Kamar' dan ukuran lebih dari 12, kemudian mem-print 'Sedang' jika ruangan adalah 'Kamar' dan ukuran lebih dari 6 dan memprint 'Kecil' jika ruangan adalah 'Kamar' dan ukuran ruangan lebih kecil dan sama dengan 6."
   ]
  },
  {
   "cell_type": "code",
   "execution_count": 17,
   "metadata": {},
   "outputs": [
    {
     "name": "stdout",
     "output_type": "stream",
     "text": [
      "ukuran kamar :  1\n",
      "Kecil\n"
     ]
    }
   ],
   "source": [
    "kamar = int(input(\"ukuran kamar : \"))\n",
    "if kamar > 12:\n",
    "    print(\"Besar\")\n",
    "elif kamar > 6:\n",
    "    print(\"Sedang\")\n",
    "else:\n",
    "    print(\"Kecil\")"
   ]
  },
  {
   "cell_type": "markdown",
   "metadata": {},
   "source": [
    "<h2>Soal 8: While Loop dan For Loop</h2>\n",
    "\n",
    "- Apa perbedaan while loop dan for loop?\n",
    "- Berikan contoh sederhana cara menggunakan while loop dan for loop"
   ]
  },
  {
   "cell_type": "markdown",
   "metadata": {},
   "source": [
    "Perbedaannya adalah perulangan for biasanya digunakan untuk mengulangi kode yang sudah diketahui banyak perulangannya. Sementara while untuk perulangan yang memiliki syarat dan tidak tentu berapa banyak perulangannya."
   ]
  },
  {
   "cell_type": "code",
   "execution_count": 21,
   "metadata": {},
   "outputs": [
    {
     "name": "stdout",
     "output_type": "stream",
     "text": [
      "1\n",
      "2\n",
      "3\n",
      "4\n",
      "5\n",
      "\n",
      "\n",
      "F\n",
      "a\n",
      "k\n",
      "h\n",
      "r\n",
      "i\n"
     ]
    }
   ],
   "source": [
    "i = 1\n",
    "while i <= 5:\n",
    "    print(i)\n",
    "    i += 1\n",
    "\n",
    "print(\"\\n\")\n",
    "for i in (\"Fakhri\"):\n",
    "    print(i)"
   ]
  },
  {
   "cell_type": "markdown",
   "metadata": {},
   "source": [
    "<h2>Soal 9: While Loop</h2>\n",
    "    \n",
    "Buatlah sebuah code while loop sebagai berikut :\n",
    "- Buatlah suatu fungsi yang merima satu input nilai numeric\n",
    "- Dalam fungsi, Buat sebuah while-loop dengan melakukan comparasi terhadap inputan tersebut, dimana looping/iterasi terus berjalan apabila nilai inputan tidak sama dengan 0\n",
    "- Dalam setiap iterasi update nilai variable inputan itu, jika input lebih dari 0, maka kurangi variabel tersebut sebesar 1, selain itu tambahkan 1\n",
    "- print nilai variable input dalam setiap awal iterasi"
   ]
  },
  {
   "cell_type": "code",
   "execution_count": 24,
   "metadata": {},
   "outputs": [
    {
     "name": "stdout",
     "output_type": "stream",
     "text": [
      "10\n",
      "9\n",
      "8\n",
      "7\n",
      "6\n",
      "5\n",
      "4\n",
      "3\n",
      "2\n",
      "1\n",
      "\n",
      "\n",
      "-3\n",
      "-2\n",
      "-1\n"
     ]
    }
   ],
   "source": [
    "def fungsiWhile(angka):\n",
    "    while angka != 0:\n",
    "        if angka < 0:\n",
    "            print(angka)\n",
    "            angka += 1\n",
    "        else:\n",
    "            print(angka)\n",
    "            angka -= 1\n",
    "\n",
    "fungsiWhile(10)\n",
    "print(\"\\n\")\n",
    "fungsiWhile(-3)\n"
   ]
  },
  {
   "cell_type": "markdown",
   "metadata": {},
   "source": [
    "Expected Output: <br>\n",
    "10 <br>\n",
    "9 <br>\n",
    "8 <br>\n",
    "7 <br>\n",
    "6 <br>\n",
    "5 <br>\n",
    "4 <br>\n",
    "3 <br>\n",
    "2 <br>\n",
    "1 <br>"
   ]
  },
  {
   "cell_type": "markdown",
   "metadata": {},
   "source": [
    "<h2>Soal 10: For Loop</h2>\n",
    "    \n",
    "Lengkapi kode untuk menghasilkan suatu output yang di harapkan:\n",
    "\n",
    "- Buatlah sebuah loop dengan mengiterasi sebuah objek list kemudian di kalikan dengan index dari list tersebut dan print hasilnya"
   ]
  },
  {
   "cell_type": "code",
   "execution_count": 27,
   "metadata": {},
   "outputs": [
    {
     "name": "stdout",
     "output_type": "stream",
     "text": [
      "0\n",
      "16\n",
      "22\n",
      "30\n",
      "20\n"
     ]
    }
   ],
   "source": [
    "\n",
    "\n",
    "listAngka = [1, 16, 11, 10, 5]\n",
    "\n",
    "for index, i in enumerate(listAngka):\n",
    "    print(i*index)"
   ]
  },
  {
   "cell_type": "markdown",
   "metadata": {},
   "source": [
    "Expected Output: <br>\n",
    "0 <br>\n",
    "16 <br>\n",
    "22 <br>\n",
    "30 <br>\n",
    "20 "
   ]
  },
  {
   "cell_type": "markdown",
   "metadata": {},
   "source": [
    "# Quiz: 2"
   ]
  },
  {
   "cell_type": "markdown",
   "metadata": {},
   "source": [
    "Buatlah sebuah program yang menggunakan kombinasi dari perulangan \"for\", kondisional \"if-else\", fungsi, dan variabel yang telah kita bahas sebelumnya. Program tersebut harus melakukan hal-hal berikut:\n",
    "\n",
    "- Membuat fungsi \"penjumlahan\" yang menerima dua argumen \"a\" dan \"b\" dan mengembalikan hasil penjumlahan dari kedua argumen tersebut.\n",
    "- Melakukan perulangan dengan menggunakan \"for\" yang akan mencetak angka dari 1 sampai 10.\n",
    "- Dalam perulangan tersebut, memanggil fungsi \"penjumlahan\" dengan mengirimkan angka saat ini dari perulangan sebagai argumen \"a\" dan 5 sebagai argumen \"b\".\n",
    "- Mengecek apakah hasil dari pemanggilan fungsi \"penjumlahan\" adalah genap atau tidak menggunakan kondisional \"if-else\". Jika genap, cetak \"Hasilnya genap\" dan jika tidak genap cetak \"Hasilnya ganjil\"\n",
    "- Membuat sebuah variabel \"nama\" dengan nilai \"John Doe\"\n",
    "- Mencetak \"Hello, nama saya adalah \" dan nilai dari variabel \"nama\" menggunakan fungsi print\n",
    "- Mencetak tipe data dari hasil penjumlahan menggunakan fungsi type()\n"
   ]
  },
  {
   "cell_type": "code",
   "execution_count": 35,
   "metadata": {},
   "outputs": [
    {
     "name": "stdout",
     "output_type": "stream",
     "text": [
      "6 genap\n",
      "7 ganjil\n",
      "8 genap\n",
      "9 ganjil\n",
      "10 genap\n",
      "Hello, nama saya adalah  John Doe\n",
      "<class 'int'>\n"
     ]
    }
   ],
   "source": [
    "# code here\n",
    "\n",
    "def penjumlah(a,b):\n",
    "    return a+b\n",
    "\n",
    "for i in range(1,11):\n",
    "    jumlah = penjumlah(i, 5)\n",
    "    if jumlah % 2 == 0:\n",
    "        print(jumlah, \"genap\")\n",
    "    else:\n",
    "        print(jumlah, \"ganjil\")\n",
    "    if jumlah == 10:\n",
    "        break\n",
    "\n",
    "nama = \"John Doe\"\n",
    "print(\"Hello, nama saya adalah \", nama)\n",
    "tambah = 1 + 1\n",
    "print(type(tambah))"
   ]
  },
  {
   "cell_type": "markdown",
   "metadata": {},
   "source": [
    "Expected Output: <br>\n",
    "6 genap <br>\n",
    "7 ganjil <br>\n",
    "8 genap <br>\n",
    "9 ganjil <br>\n",
    "10 genap <br>\n",
    "Hello, nama saya adalah John Doe"
   ]
  },
  {
   "cell_type": "markdown",
   "metadata": {},
   "source": [
    "# Quiz 3: Remove First and Last Character\n",
    "\n",
    "It's pretty straightforward. Your goal is to create a function that removes the first and last characters of a string. You're given one parameter, the original string. You don't have to worry with strings with less than two characters.\n",
    "\n",
    "note: Buatlah algoritma seminimal mungkin jika bisa"
   ]
  },
  {
   "cell_type": "code",
   "execution_count": 40,
   "metadata": {},
   "outputs": [
    {
     "name": "stdout",
     "output_type": "stream",
     "text": [
      "loquen\n",
      "ountr\n",
      "erso\n",
      "lac\n",
      "\n",
      "oopss\n"
     ]
    }
   ],
   "source": [
    "def remove_char(s):\n",
    "    return s[1:][:-1]\n",
    "    \n",
    "    \n",
    "    \n",
    "\n",
    "#-------------------------------------------------------------------------------------------------------------------------------#\n",
    "charList = [\n",
    "    'eloquent',\n",
    "    'country',\n",
    "    'person',\n",
    "    'place',\n",
    "    'ok',\n",
    "    'ooopsss']\n",
    "\n",
    "\n",
    "for strings in charList:\n",
    "    print(remove_char(strings))"
   ]
  },
  {
   "cell_type": "markdown",
   "metadata": {},
   "source": [
    "Exoected Output: <br>\n",
    "loquen <br>\n",
    "ountr <br>\n",
    "erso <br>\n",
    "lac <br>\n",
    " <br>\n",
    "oopss <br>"
   ]
  },
  {
   "cell_type": "code",
   "execution_count": null,
   "metadata": {},
   "outputs": [],
   "source": []
  },
  {
   "cell_type": "code",
   "execution_count": null,
   "metadata": {},
   "outputs": [],
   "source": []
  }
 ],
 "metadata": {
  "colab": {
   "collapsed_sections": [],
   "name": "Tugas Hari 2.ipynb",
   "provenance": []
  },
  "kernelspec": {
   "display_name": "Python 3 (ipykernel)",
   "language": "python",
   "name": "python3"
  },
  "language_info": {
   "codemirror_mode": {
    "name": "ipython",
    "version": 3
   },
   "file_extension": ".py",
   "mimetype": "text/x-python",
   "name": "python",
   "nbconvert_exporter": "python",
   "pygments_lexer": "ipython3",
   "version": "3.9.7"
  },
  "vscode": {
   "interpreter": {
    "hash": "e31aef8222fb7c235d2ed8e74ce17e973738f89b37261e7466b7a63a6dfb1214"
   }
  }
 },
 "nbformat": 4,
 "nbformat_minor": 4
}
