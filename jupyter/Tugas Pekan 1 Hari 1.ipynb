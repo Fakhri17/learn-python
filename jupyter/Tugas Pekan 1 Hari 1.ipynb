{
 "cells": [
  {
   "cell_type": "markdown",
   "metadata": {
    "colab_type": "text",
    "id": "37V7ZOpEwt-6"
   },
   "source": [
    "<h2>Soal 1: Hello World to Python</h2>\n",
    "    \n",
    "Print Say Hello World to Python"
   ]
  },
  {
   "cell_type": "code",
   "execution_count": 37,
   "metadata": {
    "colab": {},
    "colab_type": "code",
    "id": "a4yR8AILwt-8"
   },
   "outputs": [
    {
     "name": "stdout",
     "output_type": "stream",
     "text": [
      "Hello World Python\n"
     ]
    }
   ],
   "source": [
    "# Code ditulis disini\n",
    "print(\"Hello World Python\")"
   ]
  },
  {
   "cell_type": "markdown",
   "metadata": {
    "colab_type": "text",
    "id": "fftihhaUwt_B"
   },
   "source": [
    "Expected Output : \n",
    "\n",
    "Hello World Python"
   ]
  },
  {
   "cell_type": "markdown",
   "metadata": {},
   "source": [
    "## Soal 2: Variable\n",
    "\n",
    "- Deklarasikan variabel **x** dan berikan nilai **5**.\n",
    "- Deklarasikan variabel **y** dan berikan nilai **\"Hello, World!\"**.\n",
    "- Deklarasikan variabel **z** dan berikan nilai dari penjumlahan **x** dan **x**.\n",
    "- Cetak nilai **x**, **y**, dan **z** menggunakan **fungsi print**.\n",
    "- Ubah nilai **x** menjadi **10** dan berikan nilai **z** dengan penjumlahan **x** dan **x**.\n",
    "- Cetak nilai baru **x** dan **z** menggunakan **fungsi print**.\n",
    "- Deklarasikan variabel **a** dan berikan nilai dari penggabungan **y** dan **y**.\n",
    "- Cetak nilai **a**."
   ]
  },
  {
   "cell_type": "code",
   "execution_count": 38,
   "metadata": {},
   "outputs": [
    {
     "name": "stdout",
     "output_type": "stream",
     "text": [
      "5\n",
      "Hello, World!\n",
      "10\n",
      "10\n",
      "20\n",
      "Hello, World!Hello, World!\n"
     ]
    }
   ],
   "source": [
    "# Code ditulis disini\n",
    "x = 5\n",
    "y = \"Hello, World!\"\n",
    "z = x + x\n",
    "print(x)\n",
    "print(y)\n",
    "print(z)\n",
    "x = 10\n",
    "z = x + x\n",
    "print(x)\n",
    "print(z)\n",
    "a = y + y\n",
    "print(a)"
   ]
  },
  {
   "cell_type": "markdown",
   "metadata": {},
   "source": [
    "Expected Output:\n",
    "\n",
    "5 <br>\n",
    "Hello, World! <br>\n",
    "10 <br>\n",
    "10 <br>\n",
    "20 <br>\n",
    "Hello, World!Hello, World!"
   ]
  },
  {
   "cell_type": "markdown",
   "metadata": {
    "colab_type": "text",
    "id": "1aEipc1Swt_C"
   },
   "source": [
    "<h2>Soal 3: Aritmatika di Python </h2>\n",
    "    \n",
    "- Buat statement pertambahan antara 2 number di Python\n",
    "- Buat statement perkurangan antara 2 number di Python\n",
    "- Buat statement perkalian antara 2 number di Python\n",
    "- Buat statement pembagian antara 2 number di Python"
   ]
  },
  {
   "cell_type": "code",
   "execution_count": 39,
   "metadata": {
    "colab": {},
    "colab_type": "code",
    "id": "hOlCjZzrwt_D"
   },
   "outputs": [
    {
     "name": "stdout",
     "output_type": "stream",
     "text": [
      "30\n",
      "-10\n",
      "200\n",
      "0.5\n"
     ]
    }
   ],
   "source": [
    "# Code ditulis disini\n",
    "angka1 = 10\n",
    "angka2 = 20\n",
    "print(angka1 + angka2)\n",
    "print(angka1 - angka2)\n",
    "print(angka1 * angka2)\n",
    "print(angka1 / angka2)"
   ]
  },
  {
   "cell_type": "markdown",
   "metadata": {},
   "source": [
    "## Soal 4: Assignment Operator\n",
    "\n",
    "- Buat sebuah variabel yang disebut x dan berikan nilai 7.\n",
    "- Buat sebuah variabel yang disebut y dan berikan nilai dari x dikalikan dengan 3.\n",
    "- Buat sebuah variabel yang disebut z dan berikan nilai dari y ditambah 2.\n",
    "- Cetak nilai x, y, dan z.\n",
    "- Berikan nilai baru untuk x dengan menambahkan 2 ke nilai sebelumnya dari x.\n",
    "- Berikan nilai baru untuk y dengan mengalikan nilai baru dari x dengan 3.\n",
    "- Berikan nilai baru untuk z dengan menambahkan 2 ke nilai baru dari y.\n",
    "- Cetak nilai baru dari x, y, dan z.\n",
    "- Buat sebuah variabel yang disebut a dan berikan nilai \"Python itu menyenangkan!\".\n",
    "- Berikan nilai baru untuk a dengan menggabungkan nilai \" Dan mudah dipelajari.\" ke nilai sebelumnya dari a.\n",
    "- Cetak nilai baru dari a."
   ]
  },
  {
   "cell_type": "code",
   "execution_count": 40,
   "metadata": {},
   "outputs": [
    {
     "name": "stdout",
     "output_type": "stream",
     "text": [
      "7\n",
      "21\n",
      "23\n",
      "9\n",
      "27\n",
      "29\n",
      "Python itu menyenangkan!Dan Mudah Dipelajari!\n"
     ]
    }
   ],
   "source": [
    "# Code ditulis disini\n",
    "x = 7\n",
    "y = x * 3\n",
    "z = y + 2\n",
    "print(x)\n",
    "print(y)\n",
    "print(z)\n",
    "x += 2\n",
    "y = x * 3\n",
    "z = y + 2\n",
    "print(x)\n",
    "print(y)\n",
    "print(z)\n",
    "a = \"Python itu menyenangkan!\"\n",
    "a += \"Dan Mudah Dipelajari!\"\n",
    "print(a)"
   ]
  },
  {
   "cell_type": "markdown",
   "metadata": {},
   "source": [
    "Expected Output: <br>\n",
    "7 <br>\n",
    "21 <br>\n",
    "23 <br>\n",
    "9 <br>\n",
    "27 <br>\n",
    "29 <br>\n",
    "Python is fun! And it's easy to learn."
   ]
  },
  {
   "cell_type": "markdown",
   "metadata": {},
   "source": [
    "## Soal 5: Comparison Operator\n",
    "\n",
    "- Buat sebuah variabel yang disebut x dan berikan nilai 5.\n",
    "- Buat sebuah variabel yang disebut y dan berikan nilai 7.\n",
    "- Gunakan operator == untuk memeriksa apakah x sama dengan y.\n",
    "- Gunakan operator != untuk memeriksa apakah x tidak sama dengan y.\n",
    "- Gunakan operator > untuk memeriksa apakah x lebih besar dari y.\n",
    "- Gunakan operator < untuk memeriksa apakah x lebih kecil dari y.\n",
    "- Gunakan operator >= untuk memeriksa apakah x lebih besar atau sama dengan y.\n",
    "- Gunakan operator <= untuk memeriksa apakah x lebih kecil atau sama dengan y."
   ]
  },
  {
   "cell_type": "code",
   "execution_count": 41,
   "metadata": {},
   "outputs": [
    {
     "name": "stdout",
     "output_type": "stream",
     "text": [
      "False\n",
      "True\n",
      "False\n",
      "True\n",
      "False\n",
      "True\n"
     ]
    }
   ],
   "source": [
    "# Code ditulis disini\n",
    "x = 5\n",
    "y = 7\n",
    "print(x == y)\n",
    "print(x != y)\n",
    "print(x > y)\n",
    "print(x < y)\n",
    "print(x >= y)\n",
    "print(x <= y)"
   ]
  },
  {
   "cell_type": "markdown",
   "metadata": {},
   "source": [
    "Expected Output: <br>\n",
    "False <br>\n",
    "True <br>\n",
    "False <br>\n",
    "True <br>\n",
    "False <br>\n",
    "True <br>"
   ]
  },
  {
   "cell_type": "markdown",
   "metadata": {},
   "source": [
    "## Soal 6: Logic Operator\n",
    "\n",
    "- Buat sebuah variabel yang disebut x dan berikan nilai 5.\n",
    "- Buat sebuah variabel yang disebut y dan berikan nilai 7.\n",
    "- Gunakan operator **and** untuk memeriksa apakah x lebih besar dari 3 dan y lebih kecil dari 10. \n",
    "- Gunakan operator **or** untuk memeriksa apakah x sama dengan 3 atau y sama dengan 10. \n",
    "- Gunakan operator **not** untuk memeriksa apakah x tidak sama dengan 5."
   ]
  },
  {
   "cell_type": "code",
   "execution_count": 42,
   "metadata": {},
   "outputs": [
    {
     "name": "stdout",
     "output_type": "stream",
     "text": [
      "True\n",
      "False\n",
      "True\n"
     ]
    }
   ],
   "source": [
    "# Code ditulis disini\n",
    "x = 5\n",
    "y = 7\n",
    "print(x > 3 and y < 10)\n",
    "print(x == 3 or y == 10)\n",
    "print(not(x != 5))"
   ]
  },
  {
   "cell_type": "markdown",
   "metadata": {},
   "source": [
    "Expected Output: <br>\n",
    "True <br>\n",
    "False <br>\n",
    "True <br>"
   ]
  },
  {
   "cell_type": "markdown",
   "metadata": {
    "colab_type": "text",
    "id": "XmjLgW7Zwt_L"
   },
   "source": [
    "<h2>Soal 7: String Operation </h2>\n",
    "\n",
    "- masukan nama depan kamu kedalam suatu variable firstname\n",
    "- masukan nama belakang kamu kedalam suatu variable lasname\n",
    "- tampilkan suatu kalimat 'Hello, saya firstname lastname.'"
   ]
  },
  {
   "cell_type": "code",
   "execution_count": 43,
   "metadata": {
    "colab": {},
    "colab_type": "code",
    "id": "lSRwZ7xXwt_M"
   },
   "outputs": [
    {
     "name": "stdout",
     "output_type": "stream",
     "text": [
      "Hello, Saya Fakhri Alauddin.\n"
     ]
    }
   ],
   "source": [
    "# Code ditulis disini\n",
    "firstName = \"Fakhri\"\n",
    "lastName = \"Alauddin\"\n",
    "print(\"Hello, Saya %s %s.\" % (firstName, lastName))"
   ]
  },
  {
   "cell_type": "markdown",
   "metadata": {
    "colab_type": "text",
    "id": "0ROQJqBXwt_Q"
   },
   "source": [
    "Expected Output :\n",
    "\n",
    "Hello, saya John Doe."
   ]
  },
  {
   "cell_type": "markdown",
   "metadata": {
    "colab_type": "text",
    "id": "9DaWI8xdwt_Q"
   },
   "source": [
    "<h2>Soal 8: Tipe Data</h2>\n",
    "\n",
    "Lengkapi code di bawah ini untuk menghasilkan output yang sesuai"
   ]
  },
  {
   "cell_type": "code",
   "execution_count": 44,
   "metadata": {
    "colab": {},
    "colab_type": "code",
    "id": "wcDbgbjTwt_R"
   },
   "outputs": [
    {
     "name": "stdout",
     "output_type": "stream",
     "text": [
      "the number: 9.99999\n"
     ]
    }
   ],
   "source": [
    "# Code ditulis disini\n",
    "p = 9.99999\n",
    "q = 'the number:'\n",
    "print(q, p)"
   ]
  },
  {
   "cell_type": "markdown",
   "metadata": {
    "colab_type": "text",
    "id": "wdVRjDoLwt_V"
   },
   "source": [
    "Expected Output :\n",
    "\n",
    "the number: 9.99999"
   ]
  },
  {
   "cell_type": "markdown",
   "metadata": {},
   "source": [
    "## soal 9: Tipe Data\n",
    "\n",
    "- Buat sebuah variabel yang disebut x dan berikan nilai 5.\n",
    "- Cetak tipe data dari x menggunakan fungsi type().\n",
    "- Buat sebuah variabel yang disebut y dan berikan nilai \"Selamat datang!\".\n",
    "- Cetak tipe data dari y menggunakan fungsi type().\n",
    "- Buat sebuah variabel yang disebut b dan berikan nilai True.\n",
    "- Cetak tipe data dari b menggunakan fungsi type()."
   ]
  },
  {
   "cell_type": "code",
   "execution_count": 45,
   "metadata": {},
   "outputs": [
    {
     "name": "stdout",
     "output_type": "stream",
     "text": [
      "<class 'int'>\n",
      "<class 'str'>\n",
      "<class 'bool'>\n"
     ]
    }
   ],
   "source": [
    "# Code ditulis disini\n",
    "x = 5\n",
    "print(type(x))\n",
    "y = \"Selamat Datang!\"\n",
    "print(type(y))\n",
    "b = True\n",
    "print(type(b))"
   ]
  },
  {
   "cell_type": "markdown",
   "metadata": {},
   "source": [
    "Expected Output: <br>\n",
    "<class 'int'> <br>\n",
    "<class 'str'> <br>\n",
    "<class 'bool'> <br>"
   ]
  },
  {
   "cell_type": "markdown",
   "metadata": {
    "colab_type": "text",
    "id": "DgUFNMtZwt_G"
   },
   "source": [
    "<h2>Quiz 1: Assign Variable dan Tipe Data Integer, Float </h2>\n",
    "\n",
    "- Buat suatu variabel a dan b, dimana a dan b adalah nilai bertipe data numeric\n",
    "- Berikan suatu nilai bertipe data integer, hasil pembagian dari a dengan b\n",
    "- Berikan suatu nilai bertipe data float, hasil pembagian dari a dengan b"
   ]
  },
  {
   "cell_type": "code",
   "execution_count": 46,
   "metadata": {
    "colab": {},
    "colab_type": "code",
    "id": "Qf8wzMg5wt_H"
   },
   "outputs": [
    {
     "name": "stdout",
     "output_type": "stream",
     "text": [
      "4\n",
      "4.2\n"
     ]
    }
   ],
   "source": [
    "# Code ditulis disini\n",
    "a = 21\n",
    "b = 5\n",
    "toInt = int(a / b)\n",
    "toFloat = float(a / b)\n",
    "print(toInt)\n",
    "print(toFloat)"
   ]
  }
 ],
 "metadata": {
  "colab": {
   "name": "Tugas Hari 1.ipynb",
   "provenance": []
  },
  "kernelspec": {
   "display_name": "Python 3",
   "language": "python",
   "name": "python3"
  },
  "language_info": {
   "codemirror_mode": {
    "name": "ipython",
    "version": 3
   },
   "file_extension": ".py",
   "mimetype": "text/x-python",
   "name": "python",
   "nbconvert_exporter": "python",
   "pygments_lexer": "ipython3",
   "version": "3.9.7"
  },
  "vscode": {
   "interpreter": {
    "hash": "e31aef8222fb7c235d2ed8e74ce17e973738f89b37261e7466b7a63a6dfb1214"
   }
  }
 },
 "nbformat": 4,
 "nbformat_minor": 4
}
