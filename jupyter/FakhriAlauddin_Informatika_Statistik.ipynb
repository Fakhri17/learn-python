{
 "cells": [
  {
   "cell_type": "code",
   "execution_count": 26,
   "metadata": {},
   "outputs": [
    {
     "name": "stdout",
     "output_type": "stream",
     "text": [
      "82.5\n",
      "83.0\n",
      "40.05555555555556\n",
      "6.328945848682508\n"
     ]
    }
   ],
   "source": [
    "import statistics\n",
    "nilai = [78, 85, 90, 72, 88, 91, 75, 82, 80, 84]\n",
    "\n",
    "def meanData(nilai):\n",
    "  total = 0\n",
    "  for i in nilai:\n",
    "    total = total + i\n",
    "  return total/len(nilai)\n",
    "\n",
    "def median(nilai):\n",
    "  nilai.sort()\n",
    "  panjang = len(nilai)\n",
    "  mid = panjang // 2\n",
    "  if panjang % 2 == 0:\n",
    "    return (nilai[mid] + nilai[mid-1]) / 2\n",
    "  else:\n",
    "    return nilai[mid]\n",
    " \n",
    "def variansi(nilai):\n",
    "   n = len(nilai)\n",
    "   mean = meanData(nilai)\n",
    "   deviations = [(x - mean) ** 2 for x in nilai]\n",
    "   variance = sum(deviations) / (n-1)\n",
    "   return variance\n",
    "\n",
    "\n",
    "def stdDev(nilai):\n",
    "  return variansi(nilai) ** 0.5\n",
    "\n",
    "  \n",
    "# Mean\n",
    "print(meanData(nilai))\n",
    "# print(statistics.mean(nilai))\n",
    "\n",
    "# Median\n",
    "print(median(nilai))\n",
    "# print(statistics.median(nilai))\n",
    "\n",
    "# Variansi\n",
    "print(variansi(nilai))\n",
    "# print(statistics.variance(nilai))\n",
    "\n",
    "# Standard Deviasi\n",
    "print(stdDev(nilai))\n",
    "# print(statistics.stdev(nilai))"
   ]
  },
  {
   "cell_type": "code",
   "execution_count": 6,
   "metadata": {},
   "outputs": [
    {
     "name": "stdout",
     "output_type": "stream",
     "text": [
      "1.0\n"
     ]
    }
   ],
   "source": [
    "x = [1, 2, 3, 4, 5, 6, 7, 8, 9, 10]\n",
    "y = [2, 4, 6, 8, 10, 12, 14, 16, 18, 20]\n",
    "\n",
    "def meanData(nilai):\n",
    "  total = 0\n",
    "  for i in nilai:\n",
    "    total = total + i\n",
    "  return total/len(nilai)\n",
    "\n",
    "def pearson(x, y):\n",
    "    pembilang = 0\n",
    "    penyebut1 = 0\n",
    "    penyebut2 = 0\n",
    "    for i in range(len(x)):\n",
    "        pembilang += (x[i] - meanData(x)) * (y[i] - meanData(y))\n",
    "        penyebut1 += (x[i] - meanData(x)) ** 2\n",
    "        penyebut2 += (y[i] - meanData(y)) ** 2\n",
    "    return pembilang / ((penyebut1 * penyebut2) ** 0.5)\n",
    "\n",
    "print(pearson(x, y)) "
   ]
  },
  {
   "cell_type": "code",
   "execution_count": 7,
   "metadata": {},
   "outputs": [
    {
     "name": "stdout",
     "output_type": "stream",
     "text": [
      "                     Harga  Berat (gram)  Jumlah Penjualan  Pendapatan\n",
      "Harga             1.000000      0.990899          0.996975    0.992918\n",
      "Berat (gram)      0.990899      1.000000          0.996211    0.997483\n",
      "Jumlah Penjualan  0.996975      0.996211          1.000000    0.994775\n",
      "Pendapatan        0.992918      0.997483          0.994775    1.000000\n",
      "\n",
      "Korelasi Pearson: \n",
      "0.9929181226260338\n"
     ]
    }
   ],
   "source": [
    "# Implementasi Korelasi Pearson\n",
    "import pandas as pd\n",
    "\n",
    "def meanData(nilai):\n",
    "  total = 0\n",
    "  for i in nilai:\n",
    "    total = total + i\n",
    "  return total/len(nilai)\n",
    "\n",
    "data = {'Bulan': ['Januari', 'Februari', 'Maret', 'April', 'Mei', 'Juni', 'Juli', 'Agustus', 'September', 'Oktober'],\n",
    "        'Harga': [750000, 800000, 900000, 950000, 1000000, 1050000, 1100000, 1200000, 1250000, 1300000],\n",
    "        'Berat (gram)': [5, 7, 10, 15, 20, 25, 30, 35, 40, 45],\n",
    "        'Jumlah Penjualan': [20, 25, 30, 35, 40, 45, 50, 55, 60, 65],\n",
    "        'Pendapatan': [15000000, 20000000, 27000000, 33250000, 40000000, 47250000, 55000000, 66000000, 75000000, 84500000]}\n",
    "\n",
    "df = pd.DataFrame(data)\n",
    "\n",
    "print(df.corr(method ='pearson', numeric_only = True))\n",
    "\n",
    "# Implementasi Korelasi pearson\n",
    "def pearson(x, y):\n",
    "    pembilang = 0\n",
    "    penyebut1 = 0\n",
    "    penyebut2 = 0\n",
    "    for i in range(len(x)):\n",
    "        pembilang += (x[i] - meanData(x)) * (y[i] - meanData(y))\n",
    "        penyebut1 += (x[i] - meanData(x)) ** 2\n",
    "        penyebut2 += (y[i] - meanData(y)) ** 2\n",
    "    return pembilang / ((penyebut1 * penyebut2) ** 0.5) \n",
    "    \n",
    "\n",
    "print(\"\\nKorelasi Pearson: \")\n",
    "\n",
    "print(pearson(df['Harga'], df['Pendapatan']))"
   ]
  }
 ],
 "metadata": {
  "kernelspec": {
   "display_name": "Python 3",
   "language": "python",
   "name": "python3"
  },
  "language_info": {
   "codemirror_mode": {
    "name": "ipython",
    "version": 3
   },
   "file_extension": ".py",
   "mimetype": "text/x-python",
   "name": "python",
   "nbconvert_exporter": "python",
   "pygments_lexer": "ipython3",
   "version": "3.9.7"
  },
  "orig_nbformat": 4
 },
 "nbformat": 4,
 "nbformat_minor": 2
}
