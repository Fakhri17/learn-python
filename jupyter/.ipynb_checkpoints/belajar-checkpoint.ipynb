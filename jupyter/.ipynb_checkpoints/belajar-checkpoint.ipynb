{
 "cells": [
  {
   "cell_type": "code",
   "execution_count": 1,
   "id": "7c95e5f4",
   "metadata": {},
   "outputs": [
    {
     "name": "stdout",
     "output_type": "stream",
     "text": [
      "Halo dunia\n"
     ]
    }
   ],
   "source": [
    "# printf(\"halo dunia\");\n",
    "print(\"Halo dunia\")"
   ]
  },
  {
   "cell_type": "code",
   "execution_count": 8,
   "id": "b205c220",
   "metadata": {},
   "outputs": [
    {
     "name": "stdout",
     "output_type": "stream",
     "text": [
      "10\n",
      "Fakhri\n",
      "True\n"
     ]
    }
   ],
   "source": [
    "# int namaVar = 10\n",
    "namaVar = 10\n",
    "# char nama[10] = \"Fakhri\"\n",
    "nama = \"Fakhri\"\n",
    "print(namaVar)\n",
    "print(nama)\n",
    "# <stbool> buat manggil tipe data boolean\n",
    "# bool isAscending\n",
    "isAscending = True\n",
    "print(isAscending)\n",
    "\n",
    "# if(!isAscending) != =="
   ]
  },
  {
   "cell_type": "code",
   "execution_count": 18,
   "id": "9af101d2",
   "metadata": {},
   "outputs": [
    {
     "name": "stdout",
     "output_type": "stream",
     "text": [
      "Masukkan angka :120\n",
      "120\n",
      "Masukkan Angka Desimal20\n",
      "20.0\n",
      "Masukkan Angka :20\n",
      "20\n",
      "Masukkan Kalimatfak\n",
      "fak\n",
      "120 20.000000 20 fak\n",
      "Format semua tipe data 120 20.0 20 fak\n",
      "120 20.0\n"
     ]
    }
   ],
   "source": [
    "# scanf(\"%d\", namaVar)\n",
    "# kalau integer\n",
    "intVar = int(input(\"Masukkan angka :\"))\n",
    "print(intVar)\n",
    "\n",
    "# scanf(\"%f\", namaVar)\n",
    "floatVar = float(input(\"Masukkan Angka Desimal\"))\n",
    "print(floatVar)\n",
    "\n",
    "namaVar = input(\"Masukkan Angka :\")\n",
    "print(namaVar)\n",
    "\n",
    "stringVar = input(\"Masukkan Kalimat\")\n",
    "print(stringVar)\n",
    "\n",
    "print(\"%d %f %s %s\" % (intVar, floatVar, namaVar, stringVar))\n",
    "print(\"Format semua tipe data\", intVar, floatVar, namaVar, stringVar)\n",
    "print(\"{} {}\".format(intVar, floatVar, namaVar, stringVar))"
   ]
  },
  {
   "cell_type": "code",
   "execution_count": 22,
   "id": "3b5f5095",
   "metadata": {},
   "outputs": [
    {
     "name": "stdout",
     "output_type": "stream",
     "text": [
      "30\n",
      "100\n"
     ]
    }
   ],
   "source": [
    "angka1 = 10\n",
    "angka2 = 20\n",
    "hasil = angka1 + angka2\n",
    "print(hasil)\n",
    "pangkat = 2\n",
    "print(angka1 ** pangkat)"
   ]
  },
  {
   "cell_type": "code",
   "execution_count": 33,
   "id": "00791709",
   "metadata": {},
   "outputs": [
    {
     "name": "stdout",
     "output_type": "stream",
     "text": [
      "False\n",
      "True\n",
      "False\n"
     ]
    }
   ],
   "source": [
    "# Logika\n",
    "# && || !=\n",
    "\n",
    "angka1 = 10\n",
    "angka2 = 20\n",
    "\n",
    "print(angka1 < 5 and angka2 < 30)\n",
    "print(angka1 < 5 or angka2 < 30)\n",
    "print(not(angka1 > 5))"
   ]
  },
  {
   "cell_type": "code",
   "execution_count": null,
   "id": "502e4d0a",
   "metadata": {},
   "outputs": [],
   "source": []
  }
 ],
 "metadata": {
  "kernelspec": {
   "display_name": "Python 3 (ipykernel)",
   "language": "python",
   "name": "python3"
  },
  "language_info": {
   "codemirror_mode": {
    "name": "ipython",
    "version": 3
   },
   "file_extension": ".py",
   "mimetype": "text/x-python",
   "name": "python",
   "nbconvert_exporter": "python",
   "pygments_lexer": "ipython3",
   "version": "3.9.7"
  }
 },
 "nbformat": 4,
 "nbformat_minor": 5
}
